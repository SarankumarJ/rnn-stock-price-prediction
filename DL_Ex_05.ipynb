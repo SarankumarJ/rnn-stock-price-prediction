{
  "cells": [
    {
      "cell_type": "code",
      "source": [
        "import numpy as np\n",
        "import matplotlib.pyplot as plt\n",
        "import pandas as pd\n",
        "from sklearn.preprocessing import MinMaxScaler\n",
        "from keras import layers\n",
        "from keras.models import Sequential\n",
        "from sklearn.metrics import mean_squared_error"
      ],
      "metadata": {
        "id": "bOP0iSxrLLw8"
      },
      "execution_count": 14,
      "outputs": []
    },
    {
      "cell_type": "code",
      "source": [
        "# Load training dataset\n",
        "dataset_train = pd.read_csv('trainset.csv')\n",
        "train_set = dataset_train.iloc[:, 1:2].values"
      ],
      "metadata": {
        "id": "Aui_nVljLCqq"
      },
      "execution_count": 15,
      "outputs": []
    },
    {
      "cell_type": "code",
      "source": [
        "# Scale the training set\n",
        "sc = MinMaxScaler(feature_range=(0, 1))\n",
        "training_set_scaled = sc.fit_transform(train_set)"
      ],
      "metadata": {
        "id": "4J2mc070LPyb"
      },
      "execution_count": 16,
      "outputs": []
    },
    {
      "cell_type": "code",
      "source": [
        "# Prepare training data with a window of 60 time steps\n",
        "X_train_array = []\n",
        "y_train_array = []\n",
        "for i in range(60, 1259):\n",
        "    X_train_array.append(training_set_scaled[i-60:i, 0])\n",
        "    y_train_array.append(training_set_scaled[i, 0])\n",
        "X_train, y_train = np.array(X_train_array), np.array(y_train_array)\n",
        "X_train1 = X_train.reshape((X_train.shape[0], X_train.shape[1], 1))"
      ],
      "metadata": {
        "id": "SreKKJurLRPH"
      },
      "execution_count": 17,
      "outputs": []
    },
    {
      "cell_type": "code",
      "source": [
        "# Define and compile the model\n",
        "length = 60\n",
        "n_features = 1\n",
        "model = Sequential()\n",
        "model.add(layers.SimpleRNN(50, input_shape=(length, n_features)))\n",
        "model.add(layers.Dense(1))\n",
        "model.compile(optimizer='adam', loss='mse')"
      ],
      "metadata": {
        "id": "RtpH2_kWLSvq"
      },
      "execution_count": 18,
      "outputs": []
    },
    {
      "cell_type": "code",
      "source": [
        "print(\"Sarankumar J\")\n",
        "print(\"212221230087\")\n",
        "model.summary()"
      ],
      "metadata": {
        "colab": {
          "base_uri": "https://localhost:8080/"
        },
        "id": "zNYH33uQLUYE",
        "outputId": "d972ff9f-271d-44a6-a9c4-99bcadad6fb3"
      },
      "execution_count": 19,
      "outputs": [
        {
          "output_type": "stream",
          "name": "stdout",
          "text": [
            "Sarankumar J\n",
            "212221230087\n",
            "Model: \"sequential_1\"\n",
            "_________________________________________________________________\n",
            " Layer (type)                Output Shape              Param #   \n",
            "=================================================================\n",
            " simple_rnn_1 (SimpleRNN)    (None, 50)                2600      \n",
            "                                                                 \n",
            " dense_1 (Dense)             (None, 1)                 51        \n",
            "                                                                 \n",
            "=================================================================\n",
            "Total params: 2651 (10.36 KB)\n",
            "Trainable params: 2651 (10.36 KB)\n",
            "Non-trainable params: 0 (0.00 Byte)\n",
            "_________________________________________________________________\n"
          ]
        }
      ]
    },
    {
      "cell_type": "code",
      "source": [
        "# Train the model\n",
        "model.fit(X_train1, y_train, epochs=100, batch_size=32)"
      ],
      "metadata": {
        "colab": {
          "base_uri": "https://localhost:8080/"
        },
        "id": "LS3u92XELWd8",
        "outputId": "c02354ca-2f1d-48ea-81c9-8389a26a7a2e"
      },
      "execution_count": 20,
      "outputs": [
        {
          "output_type": "stream",
          "name": "stdout",
          "text": [
            "Epoch 1/100\n",
            "38/38 [==============================] - 2s 11ms/step - loss: 0.0137\n",
            "Epoch 2/100\n",
            "38/38 [==============================] - 0s 10ms/step - loss: 0.0014\n",
            "Epoch 3/100\n",
            "38/38 [==============================] - 0s 10ms/step - loss: 0.0012\n",
            "Epoch 4/100\n",
            "38/38 [==============================] - 0s 10ms/step - loss: 0.0010\n",
            "Epoch 5/100\n",
            "38/38 [==============================] - 0s 10ms/step - loss: 9.1213e-04\n",
            "Epoch 6/100\n",
            "38/38 [==============================] - 0s 11ms/step - loss: 9.0694e-04\n",
            "Epoch 7/100\n",
            "38/38 [==============================] - 0s 10ms/step - loss: 7.1613e-04\n",
            "Epoch 8/100\n",
            "38/38 [==============================] - 0s 10ms/step - loss: 6.7053e-04\n",
            "Epoch 9/100\n",
            "38/38 [==============================] - 0s 11ms/step - loss: 6.6767e-04\n",
            "Epoch 10/100\n",
            "38/38 [==============================] - 0s 10ms/step - loss: 5.9723e-04\n",
            "Epoch 11/100\n",
            "38/38 [==============================] - 0s 11ms/step - loss: 5.3839e-04\n",
            "Epoch 12/100\n",
            "38/38 [==============================] - 0s 10ms/step - loss: 5.6579e-04\n",
            "Epoch 13/100\n",
            "38/38 [==============================] - 0s 10ms/step - loss: 5.2429e-04\n",
            "Epoch 14/100\n",
            "38/38 [==============================] - 0s 11ms/step - loss: 4.7596e-04\n",
            "Epoch 15/100\n",
            "38/38 [==============================] - 0s 10ms/step - loss: 4.6809e-04\n",
            "Epoch 16/100\n",
            "38/38 [==============================] - 0s 12ms/step - loss: 4.7449e-04\n",
            "Epoch 17/100\n",
            "38/38 [==============================] - 1s 17ms/step - loss: 4.1935e-04\n",
            "Epoch 18/100\n",
            "38/38 [==============================] - 1s 17ms/step - loss: 4.6052e-04\n",
            "Epoch 19/100\n",
            "38/38 [==============================] - 1s 18ms/step - loss: 3.8310e-04\n",
            "Epoch 20/100\n",
            "38/38 [==============================] - 1s 15ms/step - loss: 3.6764e-04\n",
            "Epoch 21/100\n",
            "38/38 [==============================] - 0s 11ms/step - loss: 3.6480e-04\n",
            "Epoch 22/100\n",
            "38/38 [==============================] - 0s 10ms/step - loss: 3.7953e-04\n",
            "Epoch 23/100\n",
            "38/38 [==============================] - 0s 10ms/step - loss: 3.5053e-04\n",
            "Epoch 24/100\n",
            "38/38 [==============================] - 0s 10ms/step - loss: 3.9587e-04\n",
            "Epoch 25/100\n",
            "38/38 [==============================] - 0s 10ms/step - loss: 3.5690e-04\n",
            "Epoch 26/100\n",
            "38/38 [==============================] - 0s 10ms/step - loss: 4.0764e-04\n",
            "Epoch 27/100\n",
            "38/38 [==============================] - 0s 11ms/step - loss: 3.3957e-04\n",
            "Epoch 28/100\n",
            "38/38 [==============================] - 0s 10ms/step - loss: 3.1881e-04\n",
            "Epoch 29/100\n",
            "38/38 [==============================] - 0s 10ms/step - loss: 3.0366e-04\n",
            "Epoch 30/100\n",
            "38/38 [==============================] - 0s 10ms/step - loss: 2.9043e-04\n",
            "Epoch 31/100\n",
            "38/38 [==============================] - 0s 10ms/step - loss: 3.0698e-04\n",
            "Epoch 32/100\n",
            "38/38 [==============================] - 0s 10ms/step - loss: 2.7140e-04\n",
            "Epoch 33/100\n",
            "38/38 [==============================] - 0s 10ms/step - loss: 2.7940e-04\n",
            "Epoch 34/100\n",
            "38/38 [==============================] - 0s 11ms/step - loss: 3.0670e-04\n",
            "Epoch 35/100\n",
            "38/38 [==============================] - 0s 10ms/step - loss: 2.6000e-04\n",
            "Epoch 36/100\n",
            "38/38 [==============================] - 0s 10ms/step - loss: 2.5755e-04\n",
            "Epoch 37/100\n",
            "38/38 [==============================] - 0s 11ms/step - loss: 2.5122e-04\n",
            "Epoch 38/100\n",
            "38/38 [==============================] - 0s 10ms/step - loss: 2.7043e-04\n",
            "Epoch 39/100\n",
            "38/38 [==============================] - 0s 10ms/step - loss: 2.5108e-04\n",
            "Epoch 40/100\n",
            "38/38 [==============================] - 0s 10ms/step - loss: 2.5488e-04\n",
            "Epoch 41/100\n",
            "38/38 [==============================] - 0s 10ms/step - loss: 2.6957e-04\n",
            "Epoch 42/100\n",
            "38/38 [==============================] - 0s 10ms/step - loss: 2.5951e-04\n",
            "Epoch 43/100\n",
            "38/38 [==============================] - 0s 10ms/step - loss: 2.3935e-04\n",
            "Epoch 44/100\n",
            "38/38 [==============================] - 0s 10ms/step - loss: 2.5256e-04\n",
            "Epoch 45/100\n",
            "38/38 [==============================] - 0s 11ms/step - loss: 2.8538e-04\n",
            "Epoch 46/100\n",
            "38/38 [==============================] - 1s 17ms/step - loss: 2.4362e-04\n",
            "Epoch 47/100\n",
            "38/38 [==============================] - 1s 16ms/step - loss: 2.6990e-04\n",
            "Epoch 48/100\n",
            "38/38 [==============================] - 1s 16ms/step - loss: 2.2911e-04\n",
            "Epoch 49/100\n",
            "38/38 [==============================] - 1s 17ms/step - loss: 2.2594e-04\n",
            "Epoch 50/100\n",
            "38/38 [==============================] - 0s 11ms/step - loss: 2.3908e-04\n",
            "Epoch 51/100\n",
            "38/38 [==============================] - 0s 10ms/step - loss: 2.3445e-04\n",
            "Epoch 52/100\n",
            "38/38 [==============================] - 0s 10ms/step - loss: 2.3224e-04\n",
            "Epoch 53/100\n",
            "38/38 [==============================] - 0s 10ms/step - loss: 2.2306e-04\n",
            "Epoch 54/100\n",
            "38/38 [==============================] - 0s 10ms/step - loss: 2.1231e-04\n",
            "Epoch 55/100\n",
            "38/38 [==============================] - 0s 11ms/step - loss: 2.0580e-04\n",
            "Epoch 56/100\n",
            "38/38 [==============================] - 0s 10ms/step - loss: 2.0543e-04\n",
            "Epoch 57/100\n",
            "38/38 [==============================] - 0s 10ms/step - loss: 2.6075e-04\n",
            "Epoch 58/100\n",
            "38/38 [==============================] - 0s 10ms/step - loss: 2.3907e-04\n",
            "Epoch 59/100\n",
            "38/38 [==============================] - 0s 10ms/step - loss: 1.9638e-04\n",
            "Epoch 60/100\n",
            "38/38 [==============================] - 0s 10ms/step - loss: 1.9517e-04\n",
            "Epoch 61/100\n",
            "38/38 [==============================] - 0s 11ms/step - loss: 2.0648e-04\n",
            "Epoch 62/100\n",
            "38/38 [==============================] - 0s 10ms/step - loss: 1.9012e-04\n",
            "Epoch 63/100\n",
            "38/38 [==============================] - 0s 10ms/step - loss: 2.2446e-04\n",
            "Epoch 64/100\n",
            "38/38 [==============================] - 0s 10ms/step - loss: 1.9122e-04\n",
            "Epoch 65/100\n",
            "38/38 [==============================] - 0s 10ms/step - loss: 2.0941e-04\n",
            "Epoch 66/100\n",
            "38/38 [==============================] - 0s 11ms/step - loss: 1.8965e-04\n",
            "Epoch 67/100\n",
            "38/38 [==============================] - 0s 10ms/step - loss: 1.8685e-04\n",
            "Epoch 68/100\n",
            "38/38 [==============================] - 0s 10ms/step - loss: 2.0059e-04\n",
            "Epoch 69/100\n",
            "38/38 [==============================] - 0s 10ms/step - loss: 2.0241e-04\n",
            "Epoch 70/100\n",
            "38/38 [==============================] - 0s 11ms/step - loss: 1.7897e-04\n",
            "Epoch 71/100\n",
            "38/38 [==============================] - 0s 11ms/step - loss: 1.8333e-04\n",
            "Epoch 72/100\n",
            "38/38 [==============================] - 0s 10ms/step - loss: 1.7805e-04\n",
            "Epoch 73/100\n",
            "38/38 [==============================] - 0s 10ms/step - loss: 1.7846e-04\n",
            "Epoch 74/100\n",
            "38/38 [==============================] - 0s 10ms/step - loss: 2.0570e-04\n",
            "Epoch 75/100\n",
            "38/38 [==============================] - 1s 15ms/step - loss: 2.2225e-04\n",
            "Epoch 76/100\n",
            "38/38 [==============================] - 1s 16ms/step - loss: 1.8671e-04\n",
            "Epoch 77/100\n",
            "38/38 [==============================] - 1s 15ms/step - loss: 1.7876e-04\n",
            "Epoch 78/100\n",
            "38/38 [==============================] - 1s 16ms/step - loss: 1.9439e-04\n",
            "Epoch 79/100\n",
            "38/38 [==============================] - 1s 14ms/step - loss: 1.8549e-04\n",
            "Epoch 80/100\n",
            "38/38 [==============================] - 0s 10ms/step - loss: 1.7963e-04\n",
            "Epoch 81/100\n",
            "38/38 [==============================] - 0s 10ms/step - loss: 1.8164e-04\n",
            "Epoch 82/100\n",
            "38/38 [==============================] - 0s 11ms/step - loss: 1.9085e-04\n",
            "Epoch 83/100\n",
            "38/38 [==============================] - 0s 10ms/step - loss: 1.7241e-04\n",
            "Epoch 84/100\n",
            "38/38 [==============================] - 0s 10ms/step - loss: 1.8115e-04\n",
            "Epoch 85/100\n",
            "38/38 [==============================] - 0s 10ms/step - loss: 1.7416e-04\n",
            "Epoch 86/100\n",
            "38/38 [==============================] - 0s 10ms/step - loss: 1.8187e-04\n",
            "Epoch 87/100\n",
            "38/38 [==============================] - 0s 11ms/step - loss: 1.7932e-04\n",
            "Epoch 88/100\n",
            "38/38 [==============================] - 0s 10ms/step - loss: 1.7030e-04\n",
            "Epoch 89/100\n",
            "38/38 [==============================] - 0s 10ms/step - loss: 1.6919e-04\n",
            "Epoch 90/100\n",
            "38/38 [==============================] - 0s 10ms/step - loss: 1.7409e-04\n",
            "Epoch 91/100\n",
            "38/38 [==============================] - 0s 10ms/step - loss: 1.7847e-04\n",
            "Epoch 92/100\n",
            "38/38 [==============================] - 0s 10ms/step - loss: 1.7414e-04\n",
            "Epoch 93/100\n",
            "38/38 [==============================] - 0s 10ms/step - loss: 1.6893e-04\n",
            "Epoch 94/100\n",
            "38/38 [==============================] - 0s 10ms/step - loss: 1.6952e-04\n",
            "Epoch 95/100\n",
            "38/38 [==============================] - 0s 11ms/step - loss: 1.6814e-04\n",
            "Epoch 96/100\n",
            "38/38 [==============================] - 0s 10ms/step - loss: 1.7379e-04\n",
            "Epoch 97/100\n",
            "38/38 [==============================] - 0s 11ms/step - loss: 1.9072e-04\n",
            "Epoch 98/100\n",
            "38/38 [==============================] - 0s 10ms/step - loss: 1.6616e-04\n",
            "Epoch 99/100\n",
            "38/38 [==============================] - 0s 10ms/step - loss: 1.6633e-04\n",
            "Epoch 100/100\n",
            "38/38 [==============================] - 0s 11ms/step - loss: 1.6505e-04\n"
          ]
        },
        {
          "output_type": "execute_result",
          "data": {
            "text/plain": [
              "<keras.src.callbacks.History at 0x7f4239dff8e0>"
            ]
          },
          "metadata": {},
          "execution_count": 20
        }
      ]
    },
    {
      "cell_type": "code",
      "source": [
        "# Test Data\n",
        "dataset_test = pd.read_csv('testset.csv')\n",
        "test_set = dataset_test.iloc[:, 1:2].values"
      ],
      "metadata": {
        "id": "Dmg76n1sLXzr"
      },
      "execution_count": 21,
      "outputs": []
    },
    {
      "cell_type": "code",
      "source": [
        "# Combine training and test set for preparing inputs\n",
        "dataset_total = pd.concat((dataset_train['Open'], dataset_test['Open']), axis=0)\n",
        "inputs = dataset_total.values\n",
        "inputs = inputs.reshape(-1, 1)\n",
        "inputs_scaled = sc.transform(inputs)"
      ],
      "metadata": {
        "id": "HNzbXPP2LZLC"
      },
      "execution_count": 22,
      "outputs": []
    },
    {
      "cell_type": "code",
      "source": [
        "X_test = []\n",
        "y_test = []\n",
        "for i in range(60, 1384):\n",
        "    X_test.append(inputs_scaled[i-60:i, 0])\n",
        "    y_test.append(inputs_scaled[i, 0])\n",
        "X_test = np.array(X_test)\n",
        "X_test = np.reshape(X_test, (X_test.shape[0], X_test.shape[1], 1))"
      ],
      "metadata": {
        "id": "HqCEkPupLah8"
      },
      "execution_count": 23,
      "outputs": []
    },
    {
      "cell_type": "code",
      "source": [
        "# Make predictions on the test data\n",
        "predicted_stock_price_scaled = model.predict(X_test)\n",
        "predicted_stock_price = sc.inverse_transform(predicted_stock_price_scaled)"
      ],
      "metadata": {
        "colab": {
          "base_uri": "https://localhost:8080/"
        },
        "id": "Xp_GgB7sLccs",
        "outputId": "ffb9656f-90e1-45ab-dde8-93e192c1cd0f"
      },
      "execution_count": 24,
      "outputs": [
        {
          "output_type": "stream",
          "name": "stdout",
          "text": [
            "42/42 [==============================] - 0s 4ms/step\n"
          ]
        }
      ]
    },
    {
      "cell_type": "code",
      "source": [
        "print(\"Sarankumar J\")\n",
        "print(\"212221230087\")\n",
        "\n",
        "plt.plot(np.arange(0, 1324), inputs[:1324], color='red', label='Test (Real) Google stock price')\n",
        "plt.plot(np.arange(60, 1384), predicted_stock_price, color='blue', label='Predicted Google stock price')\n",
        "plt.title('Google Stock Price Prediction')\n",
        "plt.xlabel('Time')\n",
        "plt.ylabel('Google Stock Price')\n",
        "plt.legend()\n",
        "plt.show()"
      ],
      "metadata": {
        "colab": {
          "base_uri": "https://localhost:8080/",
          "height": 507
        },
        "id": "Xxe6U78-LeYQ",
        "outputId": "1789f4ac-fe3c-4242-a12d-b9e98e1661e6"
      },
      "execution_count": 25,
      "outputs": [
        {
          "output_type": "stream",
          "name": "stdout",
          "text": [
            "Sarankumar J\n",
            "212221230087\n"
          ]
        },
        {
          "output_type": "display_data",
          "data": {
            "text/plain": [
              "<Figure size 640x480 with 1 Axes>"
            ],
            "image/png": "[encoded data removed]"
          },
          "metadata": {}
        }
      ]
    },
    {
      "cell_type": "code",
      "source": [],
      "metadata": {
        "id": "LPmzxTObLgSg"
      },
      "execution_count": 25,
      "outputs": []
    }
  ],
  "metadata": {
    "colab": {
      "provenance": []
    },
    "kernelspec": {
      "display_name": "Python 3",
      "name": "python3"
    },
    "language_info": {
      "name": "python"
    }
  },
  "nbformat": 4,
  "nbformat_minor": 0
}